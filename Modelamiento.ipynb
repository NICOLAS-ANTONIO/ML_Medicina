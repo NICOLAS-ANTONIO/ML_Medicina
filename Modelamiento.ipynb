{
  "cells": [
    {
      "cell_type": "markdown",
      "metadata": {
        "id": "4WaoEOp0KkSp"
      },
      "source": [
        "### 3. Modelamiento\n",
        "\n",
        "Una vez preparados los datos, se procede con el modelamiento. Recuerdar que el objetivo es clasificar a un paciente como hospitalizado o no hospitalizado, teniendo en cuenta un data set que contiene información referente a antecedentes del paciente, morbilidad asociada al paciente y antecedentes relacionados con la toma de la biopsia y complicaciones infecciosas.\n"
      ]
    },
    {
      "cell_type": "markdown",
      "metadata": {
        "id": "E22GkymtLevx"
      },
      "source": [
        "Cargamos la base de datos"
      ]
    },
    {
      "cell_type": "code",
      "execution_count": 62,
      "metadata": {},
      "outputs": [],
      "source": [
        "from sklearn.tree import DecisionTreeClassifier\n",
        "from sklearn.model_selection import train_test_split\n",
        "from sklearn.metrics import confusion_matrix\n",
        "import seaborn as sns\n",
        "import matplotlib.pyplot as plt\n",
        "from sklearn.pipeline import Pipeline\n",
        "from imblearn.over_sampling import SMOTE\n",
        "from imblearn.under_sampling import RandomUnderSampler"
      ]
    },
    {
      "cell_type": "code",
      "execution_count": 63,
      "metadata": {
        "id": "dlRCMYtGLqDJ"
      },
      "outputs": [],
      "source": [
        "import pandas as pd\n",
        "df = pd.read_csv('df_preparado.csv')"
      ]
    },
    {
      "cell_type": "code",
      "execution_count": 64,
      "metadata": {},
      "outputs": [
        {
          "data": {
            "text/html": [
              "<div>\n",
              "<style scoped>\n",
              "    .dataframe tbody tr th:only-of-type {\n",
              "        vertical-align: middle;\n",
              "    }\n",
              "\n",
              "    .dataframe tbody tr th {\n",
              "        vertical-align: top;\n",
              "    }\n",
              "\n",
              "    .dataframe thead th {\n",
              "        text-align: right;\n",
              "    }\n",
              "</style>\n",
              "<table border=\"1\" class=\"dataframe\">\n",
              "  <thead>\n",
              "    <tr style=\"text-align: right;\">\n",
              "      <th></th>\n",
              "      <th>EDAD</th>\n",
              "      <th>DIABETES</th>\n",
              "      <th>HOSPITALIZACIÓN ULTIMO MES</th>\n",
              "      <th>PSA</th>\n",
              "      <th>BIOPSIAS PREVIAS</th>\n",
              "      <th>VOLUMEN PROSTATICO</th>\n",
              "      <th>ANTIBIOTICO UTILIAZADO EN LA PROFILAXIS</th>\n",
              "      <th>NUMERO DE MUESTRAS TOMADAS</th>\n",
              "      <th>CUP</th>\n",
              "      <th>ENF. CRONICA PULMONAR OBSTRUCTIVA</th>\n",
              "      <th>BIOPSIA</th>\n",
              "      <th>FIEBRE</th>\n",
              "      <th>AGENTE AISLADO</th>\n",
              "      <th>HOSPITALIZACION</th>\n",
              "      <th>DIAS HOSPITALIZACIÓN UPC</th>\n",
              "    </tr>\n",
              "  </thead>\n",
              "  <tbody>\n",
              "    <tr>\n",
              "      <th>0</th>\n",
              "      <td>53.0</td>\n",
              "      <td>0</td>\n",
              "      <td>0</td>\n",
              "      <td>-0.996841</td>\n",
              "      <td>0</td>\n",
              "      <td>1</td>\n",
              "      <td>1</td>\n",
              "      <td>-0.254799</td>\n",
              "      <td>0</td>\n",
              "      <td>0</td>\n",
              "      <td>0</td>\n",
              "      <td>1</td>\n",
              "      <td>0.0</td>\n",
              "      <td>1</td>\n",
              "      <td>-0.071876</td>\n",
              "    </tr>\n",
              "    <tr>\n",
              "      <th>1</th>\n",
              "      <td>56.0</td>\n",
              "      <td>0</td>\n",
              "      <td>0</td>\n",
              "      <td>-0.407747</td>\n",
              "      <td>0</td>\n",
              "      <td>1</td>\n",
              "      <td>1</td>\n",
              "      <td>-0.254799</td>\n",
              "      <td>0</td>\n",
              "      <td>0</td>\n",
              "      <td>0</td>\n",
              "      <td>1</td>\n",
              "      <td>0.0</td>\n",
              "      <td>1</td>\n",
              "      <td>-0.071876</td>\n",
              "    </tr>\n",
              "    <tr>\n",
              "      <th>2</th>\n",
              "      <td>57.0</td>\n",
              "      <td>0</td>\n",
              "      <td>0</td>\n",
              "      <td>2.983526</td>\n",
              "      <td>1</td>\n",
              "      <td>1</td>\n",
              "      <td>1</td>\n",
              "      <td>2.813590</td>\n",
              "      <td>0</td>\n",
              "      <td>0</td>\n",
              "      <td>0</td>\n",
              "      <td>1</td>\n",
              "      <td>1.0</td>\n",
              "      <td>1</td>\n",
              "      <td>15.237672</td>\n",
              "    </tr>\n",
              "    <tr>\n",
              "      <th>3</th>\n",
              "      <td>56.0</td>\n",
              "      <td>0</td>\n",
              "      <td>0</td>\n",
              "      <td>-0.519197</td>\n",
              "      <td>0</td>\n",
              "      <td>1</td>\n",
              "      <td>1</td>\n",
              "      <td>-0.254799</td>\n",
              "      <td>0</td>\n",
              "      <td>0</td>\n",
              "      <td>0</td>\n",
              "      <td>1</td>\n",
              "      <td>0.0</td>\n",
              "      <td>1</td>\n",
              "      <td>-0.071876</td>\n",
              "    </tr>\n",
              "    <tr>\n",
              "      <th>4</th>\n",
              "      <td>55.0</td>\n",
              "      <td>0</td>\n",
              "      <td>0</td>\n",
              "      <td>2.983526</td>\n",
              "      <td>1</td>\n",
              "      <td>1</td>\n",
              "      <td>1</td>\n",
              "      <td>2.813590</td>\n",
              "      <td>0</td>\n",
              "      <td>0</td>\n",
              "      <td>0</td>\n",
              "      <td>1</td>\n",
              "      <td>1.0</td>\n",
              "      <td>1</td>\n",
              "      <td>15.237672</td>\n",
              "    </tr>\n",
              "  </tbody>\n",
              "</table>\n",
              "</div>"
            ],
            "text/plain": [
              "   EDAD  DIABETES  HOSPITALIZACIÓN ULTIMO MES       PSA  BIOPSIAS PREVIAS  \\\n",
              "0  53.0         0                           0 -0.996841                 0   \n",
              "1  56.0         0                           0 -0.407747                 0   \n",
              "2  57.0         0                           0  2.983526                 1   \n",
              "3  56.0         0                           0 -0.519197                 0   \n",
              "4  55.0         0                           0  2.983526                 1   \n",
              "\n",
              "   VOLUMEN PROSTATICO  ANTIBIOTICO UTILIAZADO EN LA PROFILAXIS  \\\n",
              "0                   1                                        1   \n",
              "1                   1                                        1   \n",
              "2                   1                                        1   \n",
              "3                   1                                        1   \n",
              "4                   1                                        1   \n",
              "\n",
              "   NUMERO DE MUESTRAS TOMADAS  CUP  ENF. CRONICA PULMONAR OBSTRUCTIVA  \\\n",
              "0                   -0.254799    0                                  0   \n",
              "1                   -0.254799    0                                  0   \n",
              "2                    2.813590    0                                  0   \n",
              "3                   -0.254799    0                                  0   \n",
              "4                    2.813590    0                                  0   \n",
              "\n",
              "   BIOPSIA  FIEBRE  AGENTE AISLADO  HOSPITALIZACION  DIAS HOSPITALIZACIÓN UPC  \n",
              "0        0       1             0.0                1                 -0.071876  \n",
              "1        0       1             0.0                1                 -0.071876  \n",
              "2        0       1             1.0                1                 15.237672  \n",
              "3        0       1             0.0                1                 -0.071876  \n",
              "4        0       1             1.0                1                 15.237672  "
            ]
          },
          "execution_count": 64,
          "metadata": {},
          "output_type": "execute_result"
        }
      ],
      "source": [
        "df.head()"
      ]
    },
    {
      "cell_type": "code",
      "execution_count": 65,
      "metadata": {},
      "outputs": [
        {
          "name": "stdout",
          "output_type": "stream",
          "text": [
            "<class 'pandas.core.frame.DataFrame'>\n",
            "RangeIndex: 570 entries, 0 to 569\n",
            "Data columns (total 15 columns):\n",
            " #   Column                                   Non-Null Count  Dtype  \n",
            "---  ------                                   --------------  -----  \n",
            " 0   EDAD                                     570 non-null    float64\n",
            " 1   DIABETES                                 570 non-null    int64  \n",
            " 2   HOSPITALIZACIÓN ULTIMO MES               570 non-null    int64  \n",
            " 3   PSA                                      570 non-null    float64\n",
            " 4   BIOPSIAS PREVIAS                         570 non-null    int64  \n",
            " 5   VOLUMEN PROSTATICO                       570 non-null    int64  \n",
            " 6   ANTIBIOTICO UTILIAZADO EN LA PROFILAXIS  570 non-null    int64  \n",
            " 7   NUMERO DE MUESTRAS TOMADAS               570 non-null    float64\n",
            " 8   CUP                                      570 non-null    int64  \n",
            " 9   ENF. CRONICA PULMONAR OBSTRUCTIVA        570 non-null    int64  \n",
            " 10  BIOPSIA                                  570 non-null    int64  \n",
            " 11  FIEBRE                                   570 non-null    int64  \n",
            " 12  AGENTE AISLADO                           570 non-null    float64\n",
            " 13  HOSPITALIZACION                          570 non-null    int64  \n",
            " 14  DIAS HOSPITALIZACIÓN UPC                 570 non-null    float64\n",
            "dtypes: float64(5), int64(10)\n",
            "memory usage: 66.9 KB\n"
          ]
        }
      ],
      "source": [
        "df.info()"
      ]
    },
    {
      "cell_type": "code",
      "execution_count": 66,
      "metadata": {},
      "outputs": [
        {
          "data": {
            "text/plain": [
              "(570, 15)"
            ]
          },
          "execution_count": 66,
          "metadata": {},
          "output_type": "execute_result"
        }
      ],
      "source": [
        "df.shape"
      ]
    },
    {
      "cell_type": "markdown",
      "metadata": {
        "id": "X33Od3Y_Lrye"
      },
      "source": [
        "Separar el dataset en X, y (variable objetivo)"
      ]
    },
    {
      "cell_type": "code",
      "execution_count": 67,
      "metadata": {
        "id": "Zjq3g_zkMUT5"
      },
      "outputs": [
        {
          "name": "stdout",
          "output_type": "stream",
          "text": [
            "Dimensiones de X: (570, 14)\n",
            "Dimensiones de y: (570,)\n"
          ]
        }
      ],
      "source": [
        "# Importar librerías necesarias\n",
        "from sklearn.model_selection import train_test_split\n",
        "\n",
        "# Separar el dataset en X (características) y y (variable objetivo)\n",
        "X = df.drop('HOSPITALIZACION', axis=1)  # Excluir la variable objetivo\n",
        "y = df['HOSPITALIZACION']\n",
        "\n",
        "# Mostrar las dimensiones de X e y\n",
        "print(\"Dimensiones de X:\", X.shape)\n",
        "print(\"Dimensiones de y:\", y.shape)\n",
        "\n"
      ]
    },
    {
      "cell_type": "markdown",
      "metadata": {
        "id": "mTV2RdmbMoRE"
      },
      "source": [
        "Separar el dataset en X_train, X_test, y_train y y_test"
      ]
    },
    {
      "cell_type": "code",
      "execution_count": 68,
      "metadata": {
        "id": "ILzt6oOaM1ag"
      },
      "outputs": [
        {
          "name": "stdout",
          "output_type": "stream",
          "text": [
            "Dimensiones de X_train: (456, 14)\n",
            "Dimensiones de X_test: (114, 14)\n",
            "Dimensiones de y_train: (456,)\n",
            "Dimensiones de y_test: (114,)\n"
          ]
        }
      ],
      "source": [
        "# Importar la función train_test_split\n",
        "from sklearn.model_selection import train_test_split\n",
        "\n",
        "# Dividir el conjunto de datos en entrenamiento y prueba\n",
        "X_train, X_test, y_train, y_test = train_test_split(X, y, test_size=0.2, random_state=42)\n",
        "\n",
        "# Mostrar las dimensiones de los conjuntos\n",
        "print(\"Dimensiones de X_train:\", X_train.shape)\n",
        "print(\"Dimensiones de X_test:\", X_test.shape)\n",
        "print(\"Dimensiones de y_train:\", y_train.shape)\n",
        "print(\"Dimensiones de y_test:\", y_test.shape)\n"
      ]
    },
    {
      "cell_type": "markdown",
      "metadata": {
        "id": "zyQIaY1bM12g"
      },
      "source": [
        "Ahora instanciamos, entrenamos y predecimos sobre un árbol de decisión asignando una profundidad máxima arbitraria"
      ]
    },
    {
      "cell_type": "code",
      "execution_count": 69,
      "metadata": {},
      "outputs": [],
      "source": [
        "from sklearn.tree import DecisionTreeClassifier\n",
        "from sklearn.metrics import accuracy_score, precision_score, recall_score, confusion_matrix\n",
        "import seaborn as sns\n",
        "import matplotlib.pyplot as plt\n",
        "\n",
        "# Instanciar el clasificador de árbol de decisión\n",
        "tree_classifier = DecisionTreeClassifier(max_depth=5)  # Puedes ajustar la profundidad máxima\n",
        "\n",
        "# Entrenar el modelo con los datos de entrenamiento\n",
        "tree_classifier.fit(X_train, y_train)\n",
        "\n",
        "# Realizar predicciones en el conjunto de prueba\n",
        "y_pred = tree_classifier.predict(X_test)\n",
        "\n"
      ]
    },
    {
      "cell_type": "markdown",
      "metadata": {
        "id": "HAZhxOMyNFON"
      },
      "source": [
        "Realizamos la matriz de confusión para este modelo. "
      ]
    },
    {
      "cell_type": "code",
      "execution_count": 70,
      "metadata": {
        "id": "_GpXEa1oNQfG"
      },
      "outputs": [
        {
          "data": {
            "image/png": "[encoded data removed]",
            "text/plain": [
              "<Figure size 800x600 with 2 Axes>"
            ]
          },
          "metadata": {},
          "output_type": "display_data"
        }
      ],
      "source": [
        "# Crear y mostrar la matriz de confusión como un mapa de calor\n",
        "conf_matrix = confusion_matrix(y_test, y_pred)\n",
        "plt.figure(figsize=(8, 6))\n",
        "sns.heatmap(conf_matrix, annot=True, fmt='d', cmap='Blues', xticklabels=['No Hospitalización', 'Hospitalización'], yticklabels=['No Hospitalización', 'Hospitalización'])\n",
        "plt.xlabel('Predicción')\n",
        "plt.ylabel('Valor Real')\n",
        "plt.title('Matriz de Confusión')\n",
        "plt.show()\n"
      ]
    },
    {
      "cell_type": "markdown",
      "metadata": {
        "id": "CmRUpq9FMcsi"
      },
      "source": [
        "Métricas de evaluación para este modelo de clasificación y el significado de cada una de ellas para el modelo creado."
      ]
    },
    {
      "cell_type": "code",
      "execution_count": 71,
      "metadata": {},
      "outputs": [
        {
          "name": "stdout",
          "output_type": "stream",
          "text": [
            "Exactitud (Accuracy): 0.9825\n",
            "Precisión (Precision): 1.0000\n",
            "Recuperación (Recall): 0.6667\n"
          ]
        }
      ],
      "source": [
        "from sklearn.metrics import accuracy_score, precision_score, recall_score\n",
        "\n",
        "# Calcular y mostrar la exactitud (accuracy)\n",
        "accuracy = accuracy_score(y_test, y_pred)\n",
        "print(f'Exactitud (Accuracy): {accuracy:.4f}')\n",
        "\n",
        "# Calcular y mostrar la precisión (precision)\n",
        "precision = precision_score(y_test, y_pred)\n",
        "print(f'Precisión (Precision): {precision:.4f}')\n",
        "\n",
        "# Calcular y mostrar la recuperación (recall)\n",
        "recall = recall_score(y_test, y_pred)\n",
        "print(f'Recuperación (Recall): {recall:.4f}')\n"
      ]
    },
    {
      "cell_type": "markdown",
      "metadata": {},
      "source": [
        "El modelo de clasificación tiene una exactitud (accuracy) del 98.25%, lo que significa que aproximadamente el 98.25% de las predicciones fueron correctas en relación con el total de predicciones. Este alto nivel de exactitud sugiere que el modelo es efectivo en general.\n",
        "\n",
        "La precisión (precision) del modelo es del 100%, indicando que todas las predicciones positivas realizadas por el modelo fueron correctas. Esto es crucial en escenarios donde los falsos positivos deben minimizarse, ya que en este caso, se quiere asegurar que todas las hospitalizaciones predichas sean realmente casos positivos.\n",
        "\n",
        "La recuperación (recall) del modelo es del 66.67%, lo que significa que el modelo identificó correctamente el 66.67% de todos los casos reales de hospitalización. Aunque esta métrica es menor que la precisión, sigue siendo importante en el contexto médico, ya que se quiere asegurar que la mayoría de los casos de hospitalización sean capturados, aunque a expensas de algunos falsos positivos."
      ]
    },
    {
      "cell_type": "markdown",
      "metadata": {
        "id": "b_u-bC8FNTkT"
      },
      "source": [
        "Diagrama de la importancia de cada variable respecto a la clasificación de la variable objetivo"
      ]
    },
    {
      "cell_type": "code",
      "execution_count": 72,
      "metadata": {
        "id": "I9w7a6dXNYPz"
      },
      "outputs": [
        {
          "data": {
            "image/png": "[encoded data removed]",
            "text/plain": [
              "<Figure size 1000x600 with 1 Axes>"
            ]
          },
          "metadata": {},
          "output_type": "display_data"
        }
      ],
      "source": [
        "# Obtener la importancia de cada variable\n",
        "importances = tree_classifier.feature_importances_\n",
        "\n",
        "# Crear un DataFrame para mostrar las importancias junto con los nombres de las variables\n",
        "feature_importance_df = pd.DataFrame({\n",
        "    'Variable': X_train.columns,\n",
        "    'Importancia': importances\n",
        "})\n",
        "\n",
        "# Ordenar el DataFrame por importancia en orden descendente\n",
        "feature_importance_df = feature_importance_df.sort_values(by='Importancia', ascending=False)\n",
        "\n",
        "# Crear el diagrama de barras\n",
        "plt.figure(figsize=(10, 6))\n",
        "sns.barplot(x='Importancia', y='Variable', data=feature_importance_df, palette='viridis')\n",
        "plt.xlabel('Importancia')\n",
        "plt.ylabel('Variable')\n",
        "plt.title('Importancia de las Variables en la Clasificación')\n",
        "plt.show()\n"
      ]
    },
    {
      "cell_type": "markdown",
      "metadata": {
        "id": "E3k9TEhuSU9i"
      },
      "source": [
        "Exploramos cuál sería un valor óptimo para el hiperparámetro **max_depth** para el árbol de decisión. Construimos un modelo con este valor y comparamos las métricas de evaluación respecto al modelo creado con una profundidad arbitraria. "
      ]
    },
    {
      "cell_type": "code",
      "execution_count": 73,
      "metadata": {
        "id": "CUdKvPY0S1SC"
      },
      "outputs": [
        {
          "name": "stdout",
          "output_type": "stream",
          "text": [
            "Mejor valor para max_depth: 3\n",
            "Métricas de evaluación para modelo con max_depth óptimo:\n",
            "Exactitud (Accuracy): 0.9824561403508771\n",
            "Precisión (Precision): 1.0\n",
            "Recuperación (Recall): 0.6666666666666666\n"
          ]
        }
      ],
      "source": [
        "from sklearn.model_selection import GridSearchCV\n",
        "\n",
        "# Definir los valores de max_depth que deseas probar\n",
        "param_grid = {'max_depth': [3, 5, 7, 10, 15, None]}\n",
        "\n",
        "# Instanciar el clasificador de árbol de decisión\n",
        "tree_classifier = DecisionTreeClassifier()\n",
        "\n",
        "# Instanciar el objeto GridSearchCV\n",
        "grid_search = GridSearchCV(tree_classifier, param_grid, cv=5, scoring='accuracy')\n",
        "\n",
        "# Realizar la búsqueda en la cuadrícula en los datos de entrenamiento\n",
        "grid_search.fit(X_train, y_train)\n",
        "\n",
        "# Obtener el mejor valor para max_depth\n",
        "best_max_depth = grid_search.best_params_['max_depth']\n",
        "print(\"Mejor valor para max_depth:\", best_max_depth)\n",
        "\n",
        "# Crear un árbol de decisión con el mejor valor encontrado\n",
        "best_tree_classifier = DecisionTreeClassifier(max_depth=best_max_depth)\n",
        "\n",
        "# Entrenar el modelo con los datos de entrenamiento\n",
        "best_tree_classifier.fit(X_train, y_train)\n",
        "\n",
        "# Realizar predicciones en el conjunto de prueba\n",
        "y_pred_best = best_tree_classifier.predict(X_test)\n",
        "\n",
        "# Mostrar las métricas de evaluación para el modelo con max_depth óptimo\n",
        "accuracy_best = accuracy_score(y_test, y_pred_best)\n",
        "precision_best = precision_score(y_test, y_pred_best)\n",
        "recall_best = recall_score(y_test, y_pred_best)\n",
        "\n",
        "print(\"Métricas de evaluación para modelo con max_depth óptimo:\")\n",
        "print(\"Exactitud (Accuracy):\", accuracy_best)\n",
        "print(\"Precisión (Precision):\", precision_best)\n",
        "print(\"Recuperación (Recall):\", recall_best)\n",
        "\n"
      ]
    },
    {
      "cell_type": "markdown",
      "metadata": {
        "id": "EiqnqbBuNmmW"
      },
      "source": [
        "Instanciamos, entrenamos y predecimos sobre un modelo de k-vecinos asignando una cantidad de vecinos k-aribitraria. "
      ]
    },
    {
      "cell_type": "code",
      "execution_count": 74,
      "metadata": {
        "id": "m_n9Yfg0NmTP"
      },
      "outputs": [],
      "source": [
        "from sklearn.neighbors import KNeighborsClassifier\n",
        "\n",
        "# Instanciar el clasificador de k-vecinos\n",
        "knn_classifier = KNeighborsClassifier(n_neighbors=5)  # Puedes ajustar el número de vecinos (k)\n",
        "\n",
        "# Entrenar el modelo con los datos de entrenamiento\n",
        "knn_classifier.fit(X_train, y_train)\n",
        "\n",
        "# Realizar predicciones en el conjunto de prueba\n",
        "y_pred_knn = knn_classifier.predict(X_test)\n",
        "\n"
      ]
    },
    {
      "cell_type": "code",
      "execution_count": 75,
      "metadata": {},
      "outputs": [
        {
          "name": "stdout",
          "output_type": "stream",
          "text": [
            "Accuracy (modelo k-vecinos): 0.9473684210526315\n",
            "Precision (modelo k-vecinos): 0.0\n",
            "Recall (modelo k-vecinos): 0.0\n"
          ]
        },
        {
          "name": "stderr",
          "output_type": "stream",
          "text": [
            "c:\\Users\\nicol\\anaconda3\\Lib\\site-packages\\sklearn\\metrics\\_classification.py:1471: UndefinedMetricWarning: Precision is ill-defined and being set to 0.0 due to no predicted samples. Use `zero_division` parameter to control this behavior.\n",
            "  _warn_prf(average, modifier, msg_start, len(result))\n"
          ]
        }
      ],
      "source": [
        "# Calcular y mostrar la exactitud\n",
        "accuracy_knn = accuracy_score(y_test, y_pred_knn)\n",
        "print(f'Accuracy (modelo k-vecinos): {accuracy_knn}')\n",
        "\n",
        "# Otras métricas\n",
        "precision_knn = precision_score(y_test, y_pred_knn)\n",
        "recall_knn = recall_score(y_test, y_pred_knn)\n",
        "\n",
        "print(f'Precision (modelo k-vecinos): {precision_knn}')\n",
        "print(f'Recall (modelo k-vecinos): {recall_knn}')"
      ]
    },
    {
      "cell_type": "markdown",
      "metadata": {
        "id": "kiZg1tfCS38i"
      },
      "source": [
        "Buscamos el valor óptimo para k"
      ]
    },
    {
      "cell_type": "code",
      "execution_count": 76,
      "metadata": {
        "id": "DVaNp3K9S7Os"
      },
      "outputs": [
        {
          "name": "stdout",
          "output_type": "stream",
          "text": [
            "Mejor valor para K (n_neighbors): 1\n",
            "Mejor puntuación de precisión: 0.9758719541328237\n"
          ]
        }
      ],
      "source": [
        "from sklearn.model_selection import GridSearchCV\n",
        "from sklearn.neighbors import KNeighborsClassifier\n",
        "\n",
        "# Definir los parámetros a ajustar\n",
        "param_grid = {'n_neighbors': range(1, 21)}\n",
        "\n",
        "# Instanciar el clasificador de k-vecinos\n",
        "knn = KNeighborsClassifier()\n",
        "\n",
        "# Instanciar GridSearchCV\n",
        "grid_search = GridSearchCV(knn, param_grid, cv=5, scoring='accuracy')\n",
        "\n",
        "# Ajustar GridSearchCV al conjunto de entrenamiento\n",
        "grid_search.fit(X_train, y_train)\n",
        "\n",
        "# Obtener el mejor valor para k\n",
        "best_k = grid_search.best_params_['n_neighbors']\n",
        "print(f'Mejor valor para K (n_neighbors): {best_k}')\n",
        "\n",
        "# Obtener la mejor puntuación de precisión\n",
        "best_accuracy = grid_search.best_score_\n",
        "print(f'Mejor puntuación de precisión: {best_accuracy}')\n",
        "\n",
        "# Utilizar el mejor modelo para hacer predicciones en el conjunto de prueba\n",
        "y_pred_optimized_knn = grid_search.predict(X_test)\n",
        "\n",
        "\n"
      ]
    },
    {
      "cell_type": "markdown",
      "metadata": {
        "id": "_xXX6APsNjkV"
      },
      "source": [
        "Comparación entre modelos."
      ]
    },
    {
      "cell_type": "code",
      "execution_count": 77,
      "metadata": {
        "id": "paHDdRnYN_Gl"
      },
      "outputs": [
        {
          "name": "stdout",
          "output_type": "stream",
          "text": [
            "\n",
            "Accuracy (modelo k-vecinos optimizado): 0.9736842105263158\n",
            "Precision (modelo k-vecinos optimizado): 0.8\n",
            "Recall (modelo k-vecinos optimizado): 0.6666666666666666\n"
          ]
        },
        {
          "data": {
            "image/png": "[encoded data removed]",
            "text/plain": [
              "<Figure size 800x600 with 2 Axes>"
            ]
          },
          "metadata": {},
          "output_type": "display_data"
        }
      ],
      "source": [
        "# Calcular y mostrar las métricas de evaluación para el modelo optimizado\n",
        "accuracy_optimized_knn = accuracy_score(y_test, y_pred_optimized_knn)\n",
        "precision_optimized_knn = precision_score(y_test, y_pred_optimized_knn)\n",
        "recall_optimized_knn = recall_score(y_test, y_pred_optimized_knn)\n",
        "\n",
        "print(f'\\nAccuracy (modelo k-vecinos optimizado): {accuracy_optimized_knn}')\n",
        "print(f'Precision (modelo k-vecinos optimizado): {precision_optimized_knn}')\n",
        "print(f'Recall (modelo k-vecinos optimizado): {recall_optimized_knn}')\n",
        "\n",
        "# Crear y mostrar la matriz de confusión como un mapa de calor para el modelo optimizado\n",
        "conf_matrix_optimized_knn = confusion_matrix(y_test, y_pred_optimized_knn)\n",
        "plt.figure(figsize=(8, 6))\n",
        "sns.heatmap(conf_matrix_optimized_knn, annot=True, fmt='d', cmap='Blues', xticklabels=['No Hospitalización', 'Hospitalización'], yticklabels=['No Hospitalización', 'Hospitalización'])\n",
        "plt.xlabel('Predicción')\n",
        "plt.ylabel('Valor Real')\n",
        "plt.title('Matriz de Confusión (modelo k-vecinos optimizado)')\n",
        "plt.show()"
      ]
    },
    {
      "cell_type": "markdown",
      "metadata": {},
      "source": [
        "\n",
        "Los resultados muestran que el modelo de árbol de decisión optimizado tiene un rendimiento superior en términos de accuracy, precision y recall en comparación con el modelo de k-vecinos optimizado. En términos generales, el árbol de decisión parece ser más efectivo para este conjunto de datos específico y el problema de clasificación en cuestión."
      ]
    },
    {
      "cell_type": "markdown",
      "metadata": {
        "id": "lPfoiS6ZTN-4"
      },
      "source": [
        "Adicionalmente, creo que el modelo pudo haber sido más óptimo con una mejor recogida de datos. Los datos estaban muy desbalanceados lo que induce a un modelo menos eficiente. Soy consciente que en ocasiones no existe alternativa, pero mi sugerencia sería en torno a esta materia. Recoger más datos puede ayudar."
      ]
    }
  ],
  "metadata": {
    "colab": {
      "provenance": []
    },
    "kernelspec": {
      "display_name": "Python 3",
      "language": "python",
      "name": "python3"
    },
    "language_info": {
      "codemirror_mode": {
        "name": "ipython",
        "version": 3
      },
      "file_extension": ".py",
      "mimetype": "text/x-python",
      "name": "python",
      "nbconvert_exporter": "python",
      "pygments_lexer": "ipython3",
      "version": "3.11.5"
    },
    "orig_nbformat": 4,
    "vscode": {
      "interpreter": {
        "hash": "ae0e7af47f894f9476ada5eb18ddb08363018cc3b7dc70bce08ae16d38df8604"
      }
    }
  },
  "nbformat": 4,
  "nbformat_minor": 0
}
